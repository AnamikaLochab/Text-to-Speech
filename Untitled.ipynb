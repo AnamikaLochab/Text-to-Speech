{
 "cells": [
  {
   "cell_type": "code",
   "execution_count": 2,
   "id": "dcebb081",
   "metadata": {},
   "outputs": [
    {
     "name": "stdout",
     "output_type": "stream",
     "text": [
      "Requirement already satisfied: easyimap in c:\\users\\user\\appdata\\local\\programs\\python\\python36\\lib\\site-packages (0.7.0)\n",
      "Requirement already satisfied: chardet>=2.3.0 in c:\\users\\user\\appdata\\local\\programs\\python\\python36\\lib\\site-packages (from easyimap) (4.0.0)\n",
      "Requirement already satisfied: playsound in c:\\users\\user\\appdata\\local\\programs\\python\\python36\\lib\\site-packages (1.2.2)\n",
      "Requirement already satisfied: ipython in c:\\users\\user\\appdata\\local\\programs\\python\\python36\\lib\\site-packages (7.16.1)\n",
      "Requirement already satisfied: colorama in c:\\users\\user\\appdata\\local\\programs\\python\\python36\\lib\\site-packages (from ipython) (0.4.4)\n",
      "Requirement already satisfied: pickleshare in c:\\users\\user\\appdata\\local\\programs\\python\\python36\\lib\\site-packages (from ipython) (0.7.5)\n",
      "Requirement already satisfied: decorator in c:\\users\\user\\appdata\\local\\programs\\python\\python36\\lib\\site-packages (from ipython) (5.0.9)\n",
      "Requirement already satisfied: traitlets>=4.2 in c:\\users\\user\\appdata\\local\\programs\\python\\python36\\lib\\site-packages (from ipython) (4.3.3)\n",
      "Requirement already satisfied: pygments in c:\\users\\user\\appdata\\local\\programs\\python\\python36\\lib\\site-packages (from ipython) (2.9.0)\n",
      "Requirement already satisfied: jedi>=0.10 in c:\\users\\user\\appdata\\local\\programs\\python\\python36\\lib\\site-packages (from ipython) (0.18.0)\n",
      "Requirement already satisfied: setuptools>=18.5 in c:\\users\\user\\appdata\\local\\programs\\python\\python36\\lib\\site-packages (from ipython) (56.2.0)\n",
      "Requirement already satisfied: backcall in c:\\users\\user\\appdata\\local\\programs\\python\\python36\\lib\\site-packages (from ipython) (0.2.0)\n",
      "Requirement already satisfied: prompt-toolkit!=3.0.0,!=3.0.1,<3.1.0,>=2.0.0 in c:\\users\\user\\appdata\\local\\programs\\python\\python36\\lib\\site-packages (from ipython) (3.0.18)\n",
      "Requirement already satisfied: parso<0.9.0,>=0.8.0 in c:\\users\\user\\appdata\\local\\programs\\python\\python36\\lib\\site-packages (from jedi>=0.10->ipython) (0.8.2)\n",
      "Requirement already satisfied: wcwidth in c:\\users\\user\\appdata\\local\\programs\\python\\python36\\lib\\site-packages (from prompt-toolkit!=3.0.0,!=3.0.1,<3.1.0,>=2.0.0->ipython) (0.2.5)\n",
      "Requirement already satisfied: ipython-genutils in c:\\users\\user\\appdata\\local\\programs\\python\\python36\\lib\\site-packages (from traitlets>=4.2->ipython) (0.2.0)\n",
      "Requirement already satisfied: six in c:\\users\\user\\appdata\\local\\programs\\python\\python36\\lib\\site-packages (from traitlets>=4.2->ipython) (1.15.0)\n",
      "Requirement already satisfied: ibm_watson in c:\\users\\user\\appdata\\local\\programs\\python\\python36\\lib\\site-packages (5.1.0)\n",
      "Requirement already satisfied: python-dateutil>=2.5.3 in c:\\users\\user\\appdata\\local\\programs\\python\\python36\\lib\\site-packages (from ibm_watson) (2.8.1)\n",
      "Requirement already satisfied: requests<3.0,>=2.0 in c:\\users\\user\\appdata\\local\\programs\\python\\python36\\lib\\site-packages (from ibm_watson) (2.25.1)\n",
      "Requirement already satisfied: websocket-client==0.48.0 in c:\\users\\user\\appdata\\local\\programs\\python\\python36\\lib\\site-packages (from ibm_watson) (0.48.0)\n",
      "Requirement already satisfied: ibm-cloud-sdk-core>=3.3.6 in c:\\users\\user\\appdata\\local\\programs\\python\\python36\\lib\\site-packages (from ibm_watson) (3.10.0)\n",
      "Requirement already satisfied: six in c:\\users\\user\\appdata\\local\\programs\\python\\python36\\lib\\site-packages (from websocket-client==0.48.0->ibm_watson) (1.15.0)\n",
      "Requirement already satisfied: PyJWT<3.0.0,>=2.0.1 in c:\\users\\user\\appdata\\local\\programs\\python\\python36\\lib\\site-packages (from ibm-cloud-sdk-core>=3.3.6->ibm_watson) (2.1.0)\n",
      "Requirement already satisfied: certifi>=2017.4.17 in c:\\users\\user\\appdata\\local\\programs\\python\\python36\\lib\\site-packages (from requests<3.0,>=2.0->ibm_watson) (2020.12.5)\n",
      "Requirement already satisfied: chardet<5,>=3.0.2 in c:\\users\\user\\appdata\\local\\programs\\python\\python36\\lib\\site-packages (from requests<3.0,>=2.0->ibm_watson) (4.0.0)\n",
      "Requirement already satisfied: idna<3,>=2.5 in c:\\users\\user\\appdata\\local\\programs\\python\\python36\\lib\\site-packages (from requests<3.0,>=2.0->ibm_watson) (2.10)\n",
      "Requirement already satisfied: urllib3<1.27,>=1.21.1 in c:\\users\\user\\appdata\\local\\programs\\python\\python36\\lib\\site-packages (from requests<3.0,>=2.0->ibm_watson) (1.26.4)\n"
     ]
    },
    {
     "name": "stderr",
     "output_type": "stream",
     "text": [
      "C:\\Users\\USER\\AppData\\Local\\Programs\\Python\\Python36\\lib\\site-packages\\numpy\\_distributor_init.py:32: UserWarning: loaded more than 1 DLL from .libs:\n",
      "C:\\Users\\USER\\AppData\\Local\\Programs\\Python\\Python36\\lib\\site-packages\\numpy\\.libs\\libopenblas.PYQHXLVVQ7VESDPUVUADXEVJOBGHJPAY.gfortran-win_amd64.dll\n",
      "C:\\Users\\USER\\AppData\\Local\\Programs\\Python\\Python36\\lib\\site-packages\\numpy\\.libs\\libopenblas.WCDJNK7YVMPZQ2ME2ZZHJJRJ3JIKNDB7.gfortran-win_amd64.dll\n",
      "  stacklevel=1)\n"
     ]
    }
   ],
   "source": [
    "!pip install easyimap\n",
    "!pip install playsound\n",
    "!pip install ipython\n",
    "!pip install ibm_watson\n",
    "from ibm_watson import TextToSpeechV1\n",
    "import os\n",
    "from playsound import playsound\n",
    "from ibm_cloud_sdk_core.authenticators import IAMAuthenticator\n",
    "import easyimap as e"
   ]
  },
  {
   "cell_type": "code",
   "execution_count": 16,
   "id": "68310d89",
   "metadata": {},
   "outputs": [],
   "source": [
    "\n",
    "password=\"123ert@1\"\n",
    "user=\"aidquestt@gmail.com\"\n",
    "server=e.connect(\"imap.gmail.com\",user,password)\n",
    "x=len(server.unseen())\n",
    "x\n",
    "if x==0:\n",
    "    playsound('speech.mp3')\n",
    "    exit(0)"
   ]
  },
  {
   "cell_type": "code",
   "execution_count": 4,
   "id": "56970e37",
   "metadata": {},
   "outputs": [
    {
     "data": {
      "text/plain": [
       "[b'9']"
      ]
     },
     "execution_count": 4,
     "metadata": {},
     "output_type": "execute_result"
    }
   ],
   "source": [
    "server.listids(x)"
   ]
  },
  {
   "cell_type": "code",
   "execution_count": 5,
   "id": "e866f435",
   "metadata": {},
   "outputs": [],
   "source": [
    "email=server.mail(server.listids()[0])\n",
    "s=email.title"
   ]
  },
  {
   "cell_type": "code",
   "execution_count": 6,
   "id": "e81ed092",
   "metadata": {},
   "outputs": [],
   "source": [
    "outfile=open('textdata','a+')\n",
    "outfile.write(s+\"\\n\")\n",
    "\n",
    "s=email.body\n",
    "outfile.write(s+\"\\n\")\n",
    "outfile.close()"
   ]
  },
  {
   "cell_type": "code",
   "execution_count": 7,
   "id": "cf880d36",
   "metadata": {},
   "outputs": [],
   "source": [
    "url='https://api.eu-gb.text-to-speech.watson.cloud.ibm.com/instances/65e5de88-eaa1-4b71-87dc-40569df276eb'\n",
    "apikey='McBIEybPrv5ppVGLnAy6EQy-0RO8RBO9sSfoTS7fDUhe'"
   ]
  },
  {
   "cell_type": "code",
   "execution_count": 8,
   "id": "c8c27f93",
   "metadata": {},
   "outputs": [],
   "source": [
    "authenticator = IAMAuthenticator(apikey)\n",
    "tts=TextToSpeechV1(authenticator=authenticator)\n",
    "tts.set_service_url(url)"
   ]
  },
  {
   "cell_type": "code",
   "execution_count": 9,
   "id": "f8e9e51a",
   "metadata": {},
   "outputs": [],
   "source": [
    "with open('textdata','r')as f:\n",
    "    text=f.readlines()"
   ]
  },
  {
   "cell_type": "code",
   "execution_count": 10,
   "id": "7dbb404a",
   "metadata": {},
   "outputs": [
    {
     "data": {
      "text/plain": [
       "['TTS Check 2.0\\n',\n",
       " 'This is check for auto sound play.\\n',\n",
       " '\\n',\n",
       " 'Regards,\\n',\n",
       " '\\n',\n",
       " 'A L\\n',\n",
       " '\\n',\n",
       " '\\n',\n",
       " 'TTS Final Check\\n',\n",
       " 'Final Check\\n',\n",
       " '\\n',\n",
       " 'Regards,\\n',\n",
       " '\\n',\n",
       " 'A L\\n',\n",
       " '\\n',\n",
       " '\\n']"
      ]
     },
     "execution_count": 10,
     "metadata": {},
     "output_type": "execute_result"
    }
   ],
   "source": [
    "text"
   ]
  },
  {
   "cell_type": "code",
   "execution_count": 11,
   "id": "038ae53a",
   "metadata": {},
   "outputs": [],
   "source": [
    "text=[line.replace('\\n','  ,  ') for line in text]\n",
    "text=''.join(str(line) for line in text)"
   ]
  },
  {
   "cell_type": "code",
   "execution_count": 12,
   "id": "d1b8dd26",
   "metadata": {},
   "outputs": [
    {
     "data": {
      "text/plain": [
       "'TTS Check 2.0  ,  This is check for auto sound play.  ,    ,  Regards,  ,    ,  A L  ,    ,    ,  TTS Final Check  ,  Final Check  ,    ,  Regards,  ,    ,  A L  ,    ,    ,  '"
      ]
     },
     "execution_count": 12,
     "metadata": {},
     "output_type": "execute_result"
    }
   ],
   "source": [
    "text\n"
   ]
  },
  {
   "cell_type": "code",
   "execution_count": 13,
   "id": "16ed81a9",
   "metadata": {},
   "outputs": [],
   "source": [
    "os.remove('speech4.mp3')\n",
    "with open('./speech4.mp3','wb')as audio_file:\n",
    "    res=tts.synthesize(text,accept='audio/mp3',voice='en-US_AllisonV3Voice').get_result()\n",
    "    audio_file.write(res.content)"
   ]
  },
  {
   "cell_type": "code",
   "execution_count": 5,
   "id": "2b4f6ce1",
   "metadata": {},
   "outputs": [],
   "source": [
    "playsound('speech4.mp3')"
   ]
  },
  {
   "cell_type": "code",
   "execution_count": null,
   "id": "3f73cdf9",
   "metadata": {},
   "outputs": [],
   "source": []
  },
  {
   "cell_type": "code",
   "execution_count": null,
   "id": "eab9ca71",
   "metadata": {},
   "outputs": [],
   "source": []
  }
 ],
 "metadata": {
  "kernelspec": {
   "display_name": "Python 3",
   "language": "python",
   "name": "python3"
  },
  "language_info": {
   "codemirror_mode": {
    "name": "ipython",
    "version": 3
   },
   "file_extension": ".py",
   "mimetype": "text/x-python",
   "name": "python",
   "nbconvert_exporter": "python",
   "pygments_lexer": "ipython3",
   "version": "3.6.5"
  }
 },
 "nbformat": 4,
 "nbformat_minor": 5
}
